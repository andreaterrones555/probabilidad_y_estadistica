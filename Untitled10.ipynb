{
  "nbformat": 4,
  "nbformat_minor": 0,
  "metadata": {
    "colab": {
      "provenance": [],
      "authorship_tag": "ABX9TyODfS4+yWAW7ymkOdxpnn8T",
      "include_colab_link": true
    },
    "kernelspec": {
      "name": "python3",
      "display_name": "Python 3"
    },
    "language_info": {
      "name": "python"
    }
  },
  "cells": [
    {
      "cell_type": "markdown",
      "metadata": {
        "id": "view-in-github",
        "colab_type": "text"
      },
      "source": [
        "<a href=\"https://colab.research.google.com/github/andreaterrones555/probabilidad_y_estadistica/blob/main/Untitled10.ipynb\" target=\"_parent\"><img src=\"https://colab.research.google.com/assets/colab-badge.svg\" alt=\"Open In Colab\"/></a>"
      ]
    },
    {
      "cell_type": "markdown",
      "source": [
        "ANDEA ELIZABETH GARCIA TERRONES\n",
        "\n",
        "PROBABILIDAD Y ESTADISTICA\n",
        "\n",
        "PROFESOR : José Gabriel Rodríguez Rivas\n",
        "\n",
        "\n",
        "![image.png](data:image/png;base64,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)\n",
        "\n",
        "\n",
        "\n",
        "PROBLEMAS\n",
        "\n",
        "\n",
        "ESTUDIANTES ITD\n",
        "\n",
        "\n",
        "DISTRIBUCION POISSON\n",
        "\n",
        "\n",
        "DISTRIBUCION BINOMIAL"
      ],
      "metadata": {
        "id": "S9jD67FUdjGv"
      }
    },
    {
      "cell_type": "code",
      "execution_count": 1,
      "metadata": {
        "id": "jWEJYuTadhqF"
      },
      "outputs": [],
      "source": [
        "# Importamos las librerías necesarias\n",
        "import scipy.stats as stats\n",
        ""
      ]
    },
    {
      "cell_type": "code",
      "source": [
        "media = 70            # media\n",
        "desviacion = 4        # desviación estándar\n",
        "total_estudiantes = 500"
      ],
      "metadata": {
        "id": "B1OsJxPVd5Nb"
      },
      "execution_count": 2,
      "outputs": []
    },
    {
      "cell_type": "code",
      "source": [
        "prob_68 = stats.norm.cdf(68, loc=media, scale=desviacion)\n",
        "prob_72 = stats.norm.cdf(72, loc=media, scale=desviacion)"
      ],
      "metadata": {
        "id": "cU4baTxceGDD"
      },
      "execution_count": 3,
      "outputs": []
    },
    {
      "cell_type": "code",
      "source": [
        "prob_entre_68_72 = prob_72 - prob_68"
      ],
      "metadata": {
        "id": "K500UBvseVo7"
      },
      "execution_count": 4,
      "outputs": []
    },
    {
      "cell_type": "code",
      "source": [
        "\n",
        "estudiantes_entre_68_72 = prob_entre_68_72 * total_estudiantes"
      ],
      "metadata": {
        "id": "hMF9lcdMebvm"
      },
      "execution_count": 5,
      "outputs": []
    },
    {
      "cell_type": "code",
      "source": [
        "\n",
        "\n",
        "\n",
        "print(f\"Probabilidad de que un estudiante pese entre 68 y 72 kg: {prob_entre_68_72:.4f}\")\n",
        "print(f\"Cantidad estimada de estudiantes con peso entre 68 y 72 kg: {estudiantes_entre_68_72:.0f}\")"
      ],
      "metadata": {
        "colab": {
          "base_uri": "https://localhost:8080/"
        },
        "id": "Chy_eSHvekCI",
        "outputId": "6fa7aceb-2aa3-4839-c26e-6b4a7535ee0a"
      },
      "execution_count": 6,
      "outputs": [
        {
          "output_type": "stream",
          "name": "stdout",
          "text": [
            "Probabilidad de que un estudiante pese entre 68 y 72 kg: 0.3829\n",
            "Cantidad estimada de estudiantes con peso entre 68 y 72 kg: 191\n"
          ]
        }
      ]
    },
    {
      "cell_type": "markdown",
      "source": [
        "EJERCICIO DE POISSON\n",
        "#####PROBLEMA 1"
      ],
      "metadata": {
        "id": "bT5chVu6grqx"
      }
    },
    {
      "cell_type": "code",
      "source": [
        "# Importamos la librería necesaria\n",
        "from scipy.stats import poisson"
      ],
      "metadata": {
        "id": "J3DUJOingKVo"
      },
      "execution_count": 7,
      "outputs": []
    },
    {
      "cell_type": "code",
      "source": [
        "# Definimos el parámetro lambda (media de la distribución)\n",
        "lambda_ = 5\n"
      ],
      "metadata": {
        "id": "CTlKAB1Mgt7F"
      },
      "execution_count": 12,
      "outputs": []
    },
    {
      "cell_type": "code",
      "source": [
        "# a) Probabilidad de que el número de personas ingresadas sea 2\n",
        "prob_x_2 = poisson.pmf(2, lambda_)\n",
        "print(f\"a) Probabilidad de que x = 2: {prob_x_2:.4f}\")\n"
      ],
      "metadata": {
        "colab": {
          "base_uri": "https://localhost:8080/"
        },
        "id": "18B-XgZRgy_m",
        "outputId": "4cec6b27-5c4e-48ad-b84f-0449e30f44f0"
      },
      "execution_count": 13,
      "outputs": [
        {
          "output_type": "stream",
          "name": "stdout",
          "text": [
            "a) Probabilidad de que x = 2: 0.0842\n"
          ]
        }
      ]
    },
    {
      "cell_type": "code",
      "source": [
        "#¿Es probable que x exceda de 10? --> P(x > 10) = 1 - P(x <= 10)\n",
        "prob_x_mayor_10 = 1 - poisson.cdf(10, lambda_)\n",
        "print(f\"b) Probabilidad de que x > 10: {prob_x_mayor_10:.4f}\")"
      ],
      "metadata": {
        "colab": {
          "base_uri": "https://localhost:8080/"
        },
        "id": "9b9mR-Y9g3XC",
        "outputId": "c8f1a1d4-f647-4b23-d193-b719b966c96e"
      },
      "execution_count": 14,
      "outputs": [
        {
          "output_type": "stream",
          "name": "stdout",
          "text": [
            "b) Probabilidad de que x > 10: 0.0137\n"
          ]
        }
      ]
    },
    {
      "cell_type": "code",
      "source": [
        "# Interpretación de la respuesta\n",
        "if prob_x_mayor_10 > 0.05:\n",
        "    print(\"Sí, es probable que x exceda de 10 (más del 5%)\")\n",
        "else:\n",
        "    print(\"No es muy probable que x exceda de 10 (menos del 5%)\")"
      ],
      "metadata": {
        "colab": {
          "base_uri": "https://localhost:8080/"
        },
        "id": "cL3qiyfHhKDn",
        "outputId": "09914ce9-f011-4156-e4c9-d102de06145d"
      },
      "execution_count": 15,
      "outputs": [
        {
          "output_type": "stream",
          "name": "stdout",
          "text": [
            "No es muy probable que x exceda de 10 (menos del 5%)\n"
          ]
        }
      ]
    },
    {
      "cell_type": "markdown",
      "source": [
        "EJERCICIO 2\n",
        "\n",
        "BINOMIAL"
      ],
      "metadata": {
        "id": "oXlJzXeniF3H"
      }
    },
    {
      "cell_type": "code",
      "source": [
        "import math\n",
        "from scipy.stats import poisson\n"
      ],
      "metadata": {
        "id": "RgbgIaNiiSSa"
      },
      "execution_count": 16,
      "outputs": []
    },
    {
      "cell_type": "code",
      "source": [
        "# Parámetro lambda\n",
        "lambd = 1000 * 0.001  # lambda = n * p = 1"
      ],
      "metadata": {
        "id": "uAH9ZpkGk4IU"
      },
      "execution_count": 17,
      "outputs": []
    },
    {
      "cell_type": "code",
      "source": [
        "# Probabilidad de que 0, 3 y 4 motores sean defectuosos\n",
        "prob_0 = poisson.pmf(0, lambd)\n",
        "prob_3 = poisson.pmf(3, lambd)\n",
        "prob_4 = poisson.pmf(4, lambd)\n"
      ],
      "metadata": {
        "id": "iM-nXekNlAS2"
      },
      "execution_count": 19,
      "outputs": []
    },
    {
      "cell_type": "code",
      "source": [
        "print(f\"📦 Probabilidad de que ningún motor sea defectuoso: {prob_0:.6f}\")\n",
        "print(f\"📦 Probabilidad de que 3 motores sean defectuosos: {prob_3:.6f}\")\n",
        "print(f\"📦 Probabilidad de que 4 motores sean defectuosos: {prob_4:.6f}\")"
      ],
      "metadata": {
        "colab": {
          "base_uri": "https://localhost:8080/"
        },
        "id": "vXuNnZRClNSa",
        "outputId": "d53a76fe-45c9-4371-c810-3bdf6cd77682"
      },
      "execution_count": 20,
      "outputs": [
        {
          "output_type": "stream",
          "name": "stdout",
          "text": [
            "📦 Probabilidad de que ningún motor sea defectuoso: 0.367879\n",
            "📦 Probabilidad de que 3 motores sean defectuosos: 0.061313\n",
            "📦 Probabilidad de que 4 motores sean defectuosos: 0.015328\n"
          ]
        }
      ]
    }
  ]
}